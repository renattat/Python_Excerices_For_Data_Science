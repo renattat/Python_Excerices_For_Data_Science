{
 "cells": [
  {
   "cell_type": "code",
   "execution_count": 2,
   "id": "d290ea07",
   "metadata": {},
   "outputs": [],
   "source": [
    "MyFirstList = [3, 45, 56, 732]"
   ]
  },
  {
   "cell_type": "code",
   "execution_count": 5,
   "id": "28a0ec73",
   "metadata": {},
   "outputs": [
    {
     "data": {
      "text/plain": [
       "[3, 45, 56, 732]"
      ]
     },
     "execution_count": 5,
     "metadata": {},
     "output_type": "execute_result"
    }
   ],
   "source": [
    "MyFirstList"
   ]
  },
  {
   "cell_type": "code",
   "execution_count": 7,
   "id": "28513241",
   "metadata": {},
   "outputs": [
    {
     "data": {
      "text/plain": [
       "list"
      ]
     },
     "execution_count": 7,
     "metadata": {},
     "output_type": "execute_result"
    }
   ],
   "source": [
    "type(MyFirstList)"
   ]
  },
  {
   "cell_type": "code",
   "execution_count": 9,
   "id": "25c05439",
   "metadata": {},
   "outputs": [],
   "source": [
    "l2 = [\"hello\", 24, True, 55.3]"
   ]
  },
  {
   "cell_type": "code",
   "execution_count": 12,
   "id": "6be5c3c3",
   "metadata": {},
   "outputs": [
    {
     "data": {
      "text/plain": [
       "['hello', 24, True, 55.3]"
      ]
     },
     "execution_count": 12,
     "metadata": {},
     "output_type": "execute_result"
    }
   ],
   "source": [
    "l2"
   ]
  },
  {
   "cell_type": "code",
   "execution_count": 16,
   "id": "e0099731",
   "metadata": {},
   "outputs": [],
   "source": [
    "l3 = ['how are youe', 55, MyFirstList]"
   ]
  },
  {
   "cell_type": "code",
   "execution_count": 18,
   "id": "171c60a9",
   "metadata": {},
   "outputs": [
    {
     "data": {
      "text/plain": [
       "['how are youe', 55, [3, 45, 56, 732]]"
      ]
     },
     "execution_count": 18,
     "metadata": {},
     "output_type": "execute_result"
    }
   ],
   "source": [
    "l3"
   ]
  },
  {
   "cell_type": "code",
   "execution_count": 20,
   "id": "2c167eb9",
   "metadata": {},
   "outputs": [],
   "source": [
    "#----"
   ]
  },
  {
   "cell_type": "code",
   "execution_count": 22,
   "id": "e4185087",
   "metadata": {},
   "outputs": [
    {
     "data": {
      "text/plain": [
       "range(0, 15)"
      ]
     },
     "execution_count": 22,
     "metadata": {},
     "output_type": "execute_result"
    }
   ],
   "source": [
    "range(15)"
   ]
  },
  {
   "cell_type": "code",
   "execution_count": 24,
   "id": "29695e73",
   "metadata": {},
   "outputs": [
    {
     "data": {
      "text/plain": [
       "[0, 1, 2, 3, 4, 5, 6, 7, 8, 9, 10, 11, 12, 13, 14]"
      ]
     },
     "execution_count": 24,
     "metadata": {},
     "output_type": "execute_result"
    }
   ],
   "source": [
    "list(range(15))"
   ]
  },
  {
   "cell_type": "code",
   "execution_count": 28,
   "id": "aad3df75",
   "metadata": {},
   "outputs": [],
   "source": [
    "y = list(range(8))"
   ]
  },
  {
   "cell_type": "code",
   "execution_count": 29,
   "id": "f9c027c7",
   "metadata": {},
   "outputs": [
    {
     "data": {
      "text/plain": [
       "[0, 1, 2, 3, 4, 5, 6, 7]"
      ]
     },
     "execution_count": 29,
     "metadata": {},
     "output_type": "execute_result"
    }
   ],
   "source": [
    "y"
   ]
  },
  {
   "cell_type": "code",
   "execution_count": 31,
   "id": "535a7f7a",
   "metadata": {},
   "outputs": [],
   "source": [
    "z = list(range(1,8))"
   ]
  },
  {
   "cell_type": "code",
   "execution_count": 32,
   "id": "29da0817",
   "metadata": {},
   "outputs": [
    {
     "data": {
      "text/plain": [
       "[1, 2, 3, 4, 5, 6, 7]"
      ]
     },
     "execution_count": 32,
     "metadata": {},
     "output_type": "execute_result"
    }
   ],
   "source": [
    "z"
   ]
  },
  {
   "cell_type": "code",
   "execution_count": 36,
   "id": "00cd9ddb",
   "metadata": {},
   "outputs": [],
   "source": [
    "z2 = list(range(100,121))"
   ]
  },
  {
   "cell_type": "code",
   "execution_count": 38,
   "id": "6dda506a",
   "metadata": {},
   "outputs": [
    {
     "data": {
      "text/plain": [
       "[100,\n",
       " 101,\n",
       " 102,\n",
       " 103,\n",
       " 104,\n",
       " 105,\n",
       " 106,\n",
       " 107,\n",
       " 108,\n",
       " 109,\n",
       " 110,\n",
       " 111,\n",
       " 112,\n",
       " 113,\n",
       " 114,\n",
       " 115,\n",
       " 116,\n",
       " 117,\n",
       " 118,\n",
       " 119,\n",
       " 120]"
      ]
     },
     "execution_count": 38,
     "metadata": {},
     "output_type": "execute_result"
    }
   ],
   "source": [
    "z2"
   ]
  },
  {
   "cell_type": "code",
   "execution_count": 40,
   "id": "d43caa4c",
   "metadata": {},
   "outputs": [],
   "source": [
    "w = list(range(100,111,2))"
   ]
  },
  {
   "cell_type": "code",
   "execution_count": 42,
   "id": "37ccb6e3",
   "metadata": {},
   "outputs": [
    {
     "data": {
      "text/plain": [
       "[100, 102, 104, 106, 108, 110]"
      ]
     },
     "execution_count": 42,
     "metadata": {},
     "output_type": "execute_result"
    }
   ],
   "source": [
    "w"
   ]
  },
  {
   "cell_type": "code",
   "execution_count": 45,
   "id": "0d88eef0",
   "metadata": {},
   "outputs": [],
   "source": [
    "w = list(range(100,201,10))"
   ]
  },
  {
   "cell_type": "code",
   "execution_count": 49,
   "id": "2681f65b",
   "metadata": {},
   "outputs": [
    {
     "data": {
      "text/plain": [
       "[100, 110, 120, 130, 140, 150, 160, 170, 180, 190, 200]"
      ]
     },
     "execution_count": 49,
     "metadata": {},
     "output_type": "execute_result"
    }
   ],
   "source": [
    "w"
   ]
  },
  {
   "cell_type": "code",
   "execution_count": 50,
   "id": "c240bbb9",
   "metadata": {},
   "outputs": [],
   "source": [
    "w = ['a','b','c','d','e']"
   ]
  },
  {
   "cell_type": "code",
   "execution_count": 54,
   "id": "d081fc5d",
   "metadata": {},
   "outputs": [
    {
     "data": {
      "text/plain": [
       "'b'"
      ]
     },
     "execution_count": 54,
     "metadata": {},
     "output_type": "execute_result"
    }
   ],
   "source": [
    "w[1]"
   ]
  },
  {
   "cell_type": "code",
   "execution_count": 56,
   "id": "124bfdd7",
   "metadata": {},
   "outputs": [
    {
     "data": {
      "text/plain": [
       "5"
      ]
     },
     "execution_count": 56,
     "metadata": {},
     "output_type": "execute_result"
    }
   ],
   "source": [
    "len(w)"
   ]
  },
  {
   "cell_type": "code",
   "execution_count": 57,
   "id": "fbb2069e",
   "metadata": {},
   "outputs": [
    {
     "data": {
      "text/plain": [
       "['a', 'b', 'c', 'd', 'e']"
      ]
     },
     "execution_count": 57,
     "metadata": {},
     "output_type": "execute_result"
    }
   ],
   "source": [
    "w"
   ]
  },
  {
   "cell_type": "code",
   "execution_count": 58,
   "id": "739951d2",
   "metadata": {},
   "outputs": [],
   "source": [
    "#0     1    2    3     4"
   ]
  },
  {
   "cell_type": "code",
   "execution_count": 60,
   "id": "069c1dc5",
   "metadata": {},
   "outputs": [],
   "source": [
    "#-4   -3   -2   -2     -1"
   ]
  },
  {
   "cell_type": "code",
   "execution_count": 62,
   "id": "486dc83f",
   "metadata": {},
   "outputs": [
    {
     "data": {
      "text/plain": [
       "'c'"
      ]
     },
     "execution_count": 62,
     "metadata": {},
     "output_type": "execute_result"
    }
   ],
   "source": [
    "w[-3]"
   ]
  },
  {
   "cell_type": "code",
   "execution_count": 63,
   "id": "d5be821f",
   "metadata": {},
   "outputs": [
    {
     "data": {
      "text/plain": [
       "'c'"
      ]
     },
     "execution_count": 63,
     "metadata": {},
     "output_type": "execute_result"
    }
   ],
   "source": [
    "w[2]"
   ]
  },
  {
   "cell_type": "code",
   "execution_count": 65,
   "id": "5e274e7d",
   "metadata": {},
   "outputs": [],
   "source": [
    "#overwrite values:"
   ]
  },
  {
   "cell_type": "code",
   "execution_count": 67,
   "id": "1057011f",
   "metadata": {},
   "outputs": [
    {
     "data": {
      "text/plain": [
       "['a', 'b', 'c', 'd', 'e']"
      ]
     },
     "execution_count": 67,
     "metadata": {},
     "output_type": "execute_result"
    }
   ],
   "source": [
    "w"
   ]
  },
  {
   "cell_type": "code",
   "execution_count": 69,
   "id": "7dafc822",
   "metadata": {},
   "outputs": [],
   "source": [
    "w[2] = 63"
   ]
  },
  {
   "cell_type": "code",
   "execution_count": 71,
   "id": "a2702460",
   "metadata": {},
   "outputs": [
    {
     "data": {
      "text/plain": [
       "['a', 'b', 63, 'd', 'e']"
      ]
     },
     "execution_count": 71,
     "metadata": {},
     "output_type": "execute_result"
    }
   ],
   "source": [
    "w"
   ]
  },
  {
   "cell_type": "code",
   "execution_count": 72,
   "id": "c43780b6",
   "metadata": {},
   "outputs": [],
   "source": [
    "letters = ['A','B','C','D','E','F','G','H','I','J']"
   ]
  },
  {
   "cell_type": "code",
   "execution_count": 74,
   "id": "5ccea53e",
   "metadata": {},
   "outputs": [
    {
     "data": {
      "text/plain": [
       "['A', 'B', 'C', 'D', 'E', 'F', 'G', 'H', 'I', 'J']"
      ]
     },
     "execution_count": 74,
     "metadata": {},
     "output_type": "execute_result"
    }
   ],
   "source": [
    "letters"
   ]
  },
  {
   "cell_type": "code",
   "execution_count": 76,
   "id": "1ad8afe1",
   "metadata": {},
   "outputs": [
    {
     "data": {
      "text/plain": [
       "['A', 'B', 'C', 'D', 'E', 'F', 'G', 'H', 'I', 'J']"
      ]
     },
     "execution_count": 76,
     "metadata": {},
     "output_type": "execute_result"
    }
   ],
   "source": [
    "letters[ : ]"
   ]
  },
  {
   "cell_type": "code",
   "execution_count": 78,
   "id": "e2a16e62",
   "metadata": {},
   "outputs": [
    {
     "data": {
      "text/plain": [
       "['A', 'B', 'C', 'D', 'E', 'F', 'G', 'H', 'I', 'J']"
      ]
     },
     "execution_count": 78,
     "metadata": {},
     "output_type": "execute_result"
    }
   ],
   "source": [
    "letters[:]"
   ]
  },
  {
   "cell_type": "code",
   "execution_count": 80,
   "id": "2773a748",
   "metadata": {},
   "outputs": [
    {
     "data": {
      "text/plain": [
       "['C', 'D', 'E', 'F', 'G', 'H', 'I', 'J']"
      ]
     },
     "execution_count": 80,
     "metadata": {},
     "output_type": "execute_result"
    }
   ],
   "source": [
    "letters[2:]"
   ]
  },
  {
   "cell_type": "code",
   "execution_count": 82,
   "id": "95c017de",
   "metadata": {},
   "outputs": [
    {
     "data": {
      "text/plain": [
       "['A', 'B', 'C', 'D', 'E', 'F', 'G']"
      ]
     },
     "execution_count": 82,
     "metadata": {},
     "output_type": "execute_result"
    }
   ],
   "source": [
    "letters[:7]"
   ]
  },
  {
   "cell_type": "code",
   "execution_count": 83,
   "id": "28e62dc2",
   "metadata": {},
   "outputs": [
    {
     "data": {
      "text/plain": [
       "['C', 'D', 'E', 'F', 'G']"
      ]
     },
     "execution_count": 83,
     "metadata": {},
     "output_type": "execute_result"
    }
   ],
   "source": [
    "letters[2:7]"
   ]
  },
  {
   "cell_type": "code",
   "execution_count": 87,
   "id": "da8ededc",
   "metadata": {},
   "outputs": [
    {
     "data": {
      "text/plain": [
       "['C', 'D', 'E', 'F', 'G']"
      ]
     },
     "execution_count": 87,
     "metadata": {},
     "output_type": "execute_result"
    }
   ],
   "source": [
    "letters[-8: -3]"
   ]
  },
  {
   "cell_type": "code",
   "execution_count": 88,
   "id": "f1ec949b",
   "metadata": {},
   "outputs": [
    {
     "data": {
      "text/plain": [
       "['C', 'D', 'E', 'F', 'G']"
      ]
     },
     "execution_count": 88,
     "metadata": {},
     "output_type": "execute_result"
    }
   ],
   "source": [
    "letters[-8: 7]"
   ]
  },
  {
   "cell_type": "code",
   "execution_count": 90,
   "id": "5353cca1",
   "metadata": {},
   "outputs": [],
   "source": [
    "# ---- Advanced slicing"
   ]
  },
  {
   "cell_type": "code",
   "execution_count": 91,
   "id": "6df7ee33",
   "metadata": {},
   "outputs": [
    {
     "data": {
      "text/plain": [
       "['C', 'D', 'E', 'F', 'G', 'H', 'I']"
      ]
     },
     "execution_count": 91,
     "metadata": {},
     "output_type": "execute_result"
    }
   ],
   "source": [
    "letters[2:9]"
   ]
  },
  {
   "cell_type": "code",
   "execution_count": 100,
   "id": "78dc0365",
   "metadata": {},
   "outputs": [
    {
     "data": {
      "text/plain": [
       "['C', 'F', 'I']"
      ]
     },
     "execution_count": 100,
     "metadata": {},
     "output_type": "execute_result"
    }
   ],
   "source": [
    "letters[2:9:3]"
   ]
  },
  {
   "cell_type": "code",
   "execution_count": 109,
   "id": "d76e221e",
   "metadata": {},
   "outputs": [
    {
     "data": {
      "text/plain": [
       "['J', 'I', 'H', 'G', 'F', 'E', 'D']"
      ]
     },
     "execution_count": 109,
     "metadata": {},
     "output_type": "execute_result"
    }
   ],
   "source": [
    "letters[-1:-8:-1]\n"
   ]
  },
  {
   "cell_type": "markdown",
   "id": "8c85fa44",
   "metadata": {},
   "source": [
    "---"
   ]
  },
  {
   "cell_type": "code",
   "execution_count": 111,
   "id": "9ae877df",
   "metadata": {},
   "outputs": [
    {
     "data": {
      "text/plain": [
       "['J', 'I', 'H', 'G', 'F', 'E', 'D', 'C', 'B', 'A']"
      ]
     },
     "execution_count": 111,
     "metadata": {},
     "output_type": "execute_result"
    }
   ],
   "source": [
    "letters[::-1]"
   ]
  },
  {
   "cell_type": "code",
   "execution_count": 113,
   "id": "e549c5b0",
   "metadata": {},
   "outputs": [
    {
     "data": {
      "text/plain": [
       "['C', 'D', 'E', 'F', 'G']"
      ]
     },
     "execution_count": 113,
     "metadata": {},
     "output_type": "execute_result"
    }
   ],
   "source": [
    "letters[2:7:1]"
   ]
  },
  {
   "cell_type": "code",
   "execution_count": 115,
   "id": "dd8a0557",
   "metadata": {},
   "outputs": [
    {
     "data": {
      "text/plain": [
       "[]"
      ]
     },
     "execution_count": 115,
     "metadata": {},
     "output_type": "execute_result"
    }
   ],
   "source": [
    "letters[2:7:-1]"
   ]
  },
  {
   "cell_type": "code",
   "execution_count": 118,
   "id": "c833d98c",
   "metadata": {},
   "outputs": [
    {
     "data": {
      "text/plain": [
       "['G', 'F', 'E', 'D', 'C']"
      ]
     },
     "execution_count": 118,
     "metadata": {},
     "output_type": "execute_result"
    }
   ],
   "source": [
    "letters[6:1:-1]"
   ]
  },
  {
   "cell_type": "markdown",
   "id": "57791356",
   "metadata": {},
   "source": [
    "---"
   ]
  },
  {
   "cell_type": "code",
   "execution_count": 120,
   "id": "b7166ae4",
   "metadata": {},
   "outputs": [],
   "source": [
    "#tuple = immutable list"
   ]
  },
  {
   "cell_type": "code",
   "execution_count": 121,
   "id": "5e6164b0",
   "metadata": {},
   "outputs": [],
   "source": [
    "t1=(345,674,934)"
   ]
  },
  {
   "cell_type": "code",
   "execution_count": 122,
   "id": "cac7e73e",
   "metadata": {},
   "outputs": [
    {
     "data": {
      "text/plain": [
       "(345, 674, 934)"
      ]
     },
     "execution_count": 122,
     "metadata": {},
     "output_type": "execute_result"
    }
   ],
   "source": [
    "t1"
   ]
  },
  {
   "cell_type": "code",
   "execution_count": 123,
   "id": "4a05b059",
   "metadata": {},
   "outputs": [
    {
     "data": {
      "text/plain": [
       "tuple"
      ]
     },
     "execution_count": 123,
     "metadata": {},
     "output_type": "execute_result"
    }
   ],
   "source": [
    "type(t1)"
   ]
  },
  {
   "cell_type": "code",
   "execution_count": 124,
   "id": "3dff9f9d",
   "metadata": {},
   "outputs": [
    {
     "data": {
      "text/plain": [
       "345"
      ]
     },
     "execution_count": 124,
     "metadata": {},
     "output_type": "execute_result"
    }
   ],
   "source": [
    "t1[0]"
   ]
  },
  {
   "cell_type": "code",
   "execution_count": 125,
   "id": "8a3c335d",
   "metadata": {},
   "outputs": [
    {
     "data": {
      "text/plain": [
       "674"
      ]
     },
     "execution_count": 125,
     "metadata": {},
     "output_type": "execute_result"
    }
   ],
   "source": [
    "t1[1]"
   ]
  },
  {
   "cell_type": "code",
   "execution_count": 126,
   "id": "cb46cc15",
   "metadata": {},
   "outputs": [
    {
     "ename": "TypeError",
     "evalue": "'tuple' object does not support item assignment",
     "output_type": "error",
     "traceback": [
      "\u001b[1;31m---------------------------------------------------------------------------\u001b[0m",
      "\u001b[1;31mTypeError\u001b[0m                                 Traceback (most recent call last)",
      "\u001b[1;32mC:\\Users\\RSYAMI~1\\AppData\\Local\\Temp/ipykernel_12436/2036957753.py\u001b[0m in \u001b[0;36m<module>\u001b[1;34m\u001b[0m\n\u001b[1;32m----> 1\u001b[1;33m \u001b[0mt1\u001b[0m\u001b[1;33m[\u001b[0m\u001b[1;36m1\u001b[0m\u001b[1;33m]\u001b[0m \u001b[1;33m=\u001b[0m \u001b[1;36m445\u001b[0m\u001b[1;33m\u001b[0m\u001b[1;33m\u001b[0m\u001b[0m\n\u001b[0m",
      "\u001b[1;31mTypeError\u001b[0m: 'tuple' object does not support item assignment"
     ]
    }
   ],
   "source": [
    "t1[1] = 445"
   ]
  },
  {
   "cell_type": "code",
   "execution_count": 1,
   "id": "3f1062c6",
   "metadata": {},
   "outputs": [],
   "source": [
    "l1 = [20, 'a', 21, 'b', 22, 'c', 23, 'd', 24, 'e', 25, 'f']"
   ]
  },
  {
   "cell_type": "code",
   "execution_count": 3,
   "id": "8b0fa1eb",
   "metadata": {},
   "outputs": [
    {
     "data": {
      "text/plain": [
       "['f']"
      ]
     },
     "execution_count": 3,
     "metadata": {},
     "output_type": "execute_result"
    }
   ],
   "source": [
    "l1[-1::]"
   ]
  },
  {
   "cell_type": "code",
   "execution_count": 4,
   "id": "7b62a29d",
   "metadata": {},
   "outputs": [
    {
     "data": {
      "text/plain": [
       "[]"
      ]
     },
     "execution_count": 4,
     "metadata": {},
     "output_type": "execute_result"
    }
   ],
   "source": [
    "l1[-1:-12]"
   ]
  },
  {
   "cell_type": "code",
   "execution_count": 5,
   "id": "e32d2ffe",
   "metadata": {},
   "outputs": [
    {
     "data": {
      "text/plain": [
       "[20, 'a', 21, 'b', 22, 'c', 23, 'd', 24, 'e', 25]"
      ]
     },
     "execution_count": 5,
     "metadata": {},
     "output_type": "execute_result"
    }
   ],
   "source": [
    "l1[-12:-1]"
   ]
  },
  {
   "cell_type": "code",
   "execution_count": 6,
   "id": "dde9127d",
   "metadata": {},
   "outputs": [
    {
     "data": {
      "text/plain": [
       "['f', 25, 'e', 24, 'd', 23, 'c', 22, 'b', 21, 'a']"
      ]
     },
     "execution_count": 6,
     "metadata": {},
     "output_type": "execute_result"
    }
   ],
   "source": [
    "l1[-1:-12:-1]"
   ]
  },
  {
   "cell_type": "code",
   "execution_count": 7,
   "id": "cc8b0f33",
   "metadata": {},
   "outputs": [
    {
     "data": {
      "text/plain": [
       "['f', 'e', 'd', 'c', 'b', 'a']"
      ]
     },
     "execution_count": 7,
     "metadata": {},
     "output_type": "execute_result"
    }
   ],
   "source": [
    "l1[-1:-12:-2]"
   ]
  },
  {
   "cell_type": "code",
   "execution_count": null,
   "id": "487141dd",
   "metadata": {},
   "outputs": [],
   "source": []
  }
 ],
 "metadata": {
  "kernelspec": {
   "display_name": "Python 3 (ipykernel)",
   "language": "python",
   "name": "python3"
  },
  "language_info": {
   "codemirror_mode": {
    "name": "ipython",
    "version": 3
   },
   "file_extension": ".py",
   "mimetype": "text/x-python",
   "name": "python",
   "nbconvert_exporter": "python",
   "pygments_lexer": "ipython3",
   "version": "3.9.7"
  }
 },
 "nbformat": 4,
 "nbformat_minor": 5
}
