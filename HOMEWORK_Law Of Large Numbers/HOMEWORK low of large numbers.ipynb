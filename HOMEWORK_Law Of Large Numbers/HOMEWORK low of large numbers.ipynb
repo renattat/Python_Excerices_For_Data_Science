{
 "cells": [
  {
   "cell_type": "code",
   "execution_count": 3,
   "id": "d143fcf9",
   "metadata": {},
   "outputs": [],
   "source": [
    "import numpy as np\n",
    "from numpy.random import randn"
   ]
  },
  {
   "cell_type": "code",
   "execution_count": 51,
   "id": "f48c05d9",
   "metadata": {},
   "outputs": [
    {
     "name": "stdout",
     "output_type": "stream",
     "text": [
      "% of hit the target is  68.2862\n"
     ]
    }
   ],
   "source": [
    "x = 0\n",
    "numberOfTest = 1000000\n",
    "target = 0\n",
    "for i in range (numberOfTest):\n",
    "    x = randn()\n",
    "    if x >= -1 and x <= 1:\n",
    "        target += 1\n",
    "print(\"% of hit the target is \", (target*100)/numberOfTest)"
   ]
  },
  {
   "cell_type": "code",
   "execution_count": 65,
   "id": "a4e8b77f",
   "metadata": {},
   "outputs": [
    {
     "name": "stdout",
     "output_type": "stream",
     "text": [
      "% of hit the target is  68.23563333333334 %\n"
     ]
    }
   ],
   "source": [
    "numberOfTest = 3000000\n",
    "target = 0\n",
    "for i in randn(numberOfTest):\n",
    "    if i >= -1 and i <= 1:\n",
    "        target += 1\n",
    "print(\"% of hit the target is \", (target*100)/numberOfTest,\"%\")"
   ]
  }
 ],
 "metadata": {
  "kernelspec": {
   "display_name": "Python 3 (ipykernel)",
   "language": "python",
   "name": "python3"
  },
  "language_info": {
   "codemirror_mode": {
    "name": "ipython",
    "version": 3
   },
   "file_extension": ".py",
   "mimetype": "text/x-python",
   "name": "python",
   "nbconvert_exporter": "python",
   "pygments_lexer": "ipython3",
   "version": "3.9.7"
  }
 },
 "nbformat": 4,
 "nbformat_minor": 5
}
