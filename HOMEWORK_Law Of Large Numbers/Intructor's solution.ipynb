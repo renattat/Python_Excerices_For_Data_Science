{
 "cells": [
  {
   "cell_type": "code",
   "execution_count": 135,
   "id": "4bd77dee",
   "metadata": {},
   "outputs": [
    {
     "data": {
      "text/plain": [
       "0.681956"
      ]
     },
     "execution_count": 135,
     "metadata": {},
     "output_type": "execute_result"
    }
   ],
   "source": [
    "import numpy as np\n",
    "from numpy.random import randn\n",
    "\n",
    "N = 1000000\n",
    "counter = 0\n",
    "for i in randn(N):\n",
    "    if (i > -1 and i < 1):\n",
    "        counter = counter + 1\n",
    "counter/N    "
   ]
  }
 ],
 "metadata": {
  "kernelspec": {
   "display_name": "Python 3 (ipykernel)",
   "language": "python",
   "name": "python3"
  },
  "language_info": {
   "codemirror_mode": {
    "name": "ipython",
    "version": 3
   },
   "file_extension": ".py",
   "mimetype": "text/x-python",
   "name": "python",
   "nbconvert_exporter": "python",
   "pygments_lexer": "ipython3",
   "version": "3.9.7"
  }
 },
 "nbformat": 4,
 "nbformat_minor": 5
}
